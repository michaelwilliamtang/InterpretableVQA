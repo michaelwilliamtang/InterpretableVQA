{
 "cells": [
  {
   "cell_type": "code",
   "execution_count": 1,
   "id": "6f85e18c",
   "metadata": {},
   "outputs": [
    {
     "name": "stderr",
     "output_type": "stream",
     "text": [
      "/Users/mt/anaconda3/envs/cos429/lib/python3.7/site-packages/omegaconf/grammar_visitor.py:257: UserWarning: In the sequence `MMF_USER_DIR,` some elements are missing: please replace them with empty quoted strings. See https://github.com/omry/omegaconf/issues/572 for details.\n",
      "  category=UserWarning,\n",
      "/Users/mt/anaconda3/envs/cos429/lib/python3.7/site-packages/omegaconf/resolvers/__init__.py:13: UserWarning: The `env` resolver is deprecated, see https://github.com/omry/omegaconf/issues/573\n",
      "  \"The `env` resolver is deprecated, see https://github.com/omry/omegaconf/issues/573\"\n",
      "/Users/mt/Documents/ClassesF2021/COS429/InterpretableVQA/mmf/mmf/utils/configuration.py:582: UserWarning: Device specified is 'cuda' but cuda is not present. Switching to CPU version.\n",
      "  \"Device specified is 'cuda' but cuda is not present. \"\n",
      "/Users/mt/anaconda3/envs/cos429/lib/python3.7/site-packages/omegaconf/grammar_visitor.py:257: UserWarning: In the sequence `MMF_LOG_DIR,` some elements are missing: please replace them with empty quoted strings. See https://github.com/omry/omegaconf/issues/572 for details.\n",
      "  category=UserWarning,\n",
      "/Users/mt/anaconda3/envs/cos429/lib/python3.7/site-packages/omegaconf/grammar_visitor.py:257: UserWarning: In the sequence `MMF_REPORT_DIR,` some elements are missing: please replace them with empty quoted strings. See https://github.com/omry/omegaconf/issues/572 for details.\n",
      "  category=UserWarning,\n",
      "/Users/mt/anaconda3/envs/cos429/lib/python3.7/site-packages/omegaconf/grammar_visitor.py:257: UserWarning: In the sequence `MMF_TENSORBOARD_LOGDIR,` some elements are missing: please replace them with empty quoted strings. See https://github.com/omry/omegaconf/issues/572 for details.\n",
      "  category=UserWarning,\n",
      "/Users/mt/anaconda3/envs/cos429/lib/python3.7/site-packages/omegaconf/grammar_visitor.py:257: UserWarning: In the sequence `MMF_WANDB_LOGDIR,` some elements are missing: please replace them with empty quoted strings. See https://github.com/omry/omegaconf/issues/572 for details.\n",
      "  category=UserWarning,\n"
     ]
    },
    {
     "data": {
      "application/vnd.jupyter.widget-view+json": {
       "model_id": "9e2e76112d1d451a8af820e9e3f398f9",
       "version_major": 2,
       "version_minor": 0
      },
      "text/plain": [
       "Text(value='http://images.cocodataset.org/train2017/000000505539.jpg', description='Image URL')"
      ]
     },
     "metadata": {},
     "output_type": "display_data"
    },
    {
     "data": {
      "application/vnd.jupyter.widget-view+json": {
       "model_id": "18fea9c2dc7546aeaf460d856fda0b28",
       "version_major": 2,
       "version_minor": 0
      },
      "text/plain": [
       "Text(value='where is this place?', description='Question')"
      ]
     },
     "metadata": {},
     "output_type": "display_data"
    },
    {
     "data": {
      "application/vnd.jupyter.widget-view+json": {
       "model_id": "cc07488fa4f246fcb2260820871af66f",
       "version_major": 2,
       "version_minor": 0
      },
      "text/plain": [
       "Button(description='Ask MMF!', style=ButtonStyle())"
      ]
     },
     "metadata": {},
     "output_type": "display_data"
    }
   ],
   "source": [
    "from setup_pythia import PythiaModel\n",
    "\n",
    "import yaml\n",
    "import cv2\n",
    "import torch\n",
    "import requests\n",
    "import numpy as np\n",
    "import gc\n",
    "import torch.nn.functional as F\n",
    "import pandas as pd\n",
    "\n",
    "\n",
    "import torchvision.models as models\n",
    "import torchvision.transforms as transforms\n",
    "\n",
    "from PIL import Image\n",
    "from IPython.display import display, HTML, clear_output\n",
    "from ipywidgets import widgets, Layout\n",
    "from io import BytesIO\n",
    "from argparse import Namespace\n",
    "\n",
    "\n",
    "from maskrcnn_benchmark.config import cfg\n",
    "from maskrcnn_benchmark.layers import nms\n",
    "from maskrcnn_benchmark.modeling.detector import build_detection_model\n",
    "from maskrcnn_benchmark.structures.image_list import to_image_list\n",
    "from maskrcnn_benchmark.utils.model_serialization import load_state_dict\n",
    "\n",
    "\n",
    "from mmf.datasets.processors.processors import VocabProcessor, VQAAnswerProcessor\n",
    "from mmf.models.pythia import Pythia\n",
    "from mmf.common.registry import registry\n",
    "from mmf.common.sample import Sample, SampleList\n",
    "from mmf.utils.env import setup_imports\n",
    "from mmf.utils.configuration import Configuration\n",
    "\n",
    "setup_imports()\n",
    "\n",
    "model = PythiaModel()\n",
    "\n",
    "def init_widgets(url, question):\n",
    "  image_text = widgets.Text(\n",
    "    description=\"Image URL\", layout=Layout(minwidth=\"70%\")\n",
    "  )\n",
    "  question_text = widgets.Text(\n",
    "      description=\"Question\", layout=Layout(minwidth=\"70%\")\n",
    "  )\n",
    "\n",
    "  image_text.value = url\n",
    "  question_text.value = question\n",
    "  submit_button = widgets.Button(description=\"Ask MMF!\")\n",
    "\n",
    "  display(image_text)\n",
    "  display(question_text)\n",
    "  display(submit_button)\n",
    "\n",
    "  submit_button.on_click(lambda b: on_button_click(\n",
    "      b, image_text, question_text\n",
    "  ))\n",
    "\n",
    "  return image_text, question_text\n",
    "\n",
    "def on_button_click(b, image_text, question_text):\n",
    "  clear_output()\n",
    "  image_path = model.get_actual_image(image_text.value)\n",
    "  image = Image.open(image_path)\n",
    "\n",
    "  scores, predictions = model.predict(image_text.value, question_text.value)\n",
    "  scores = [score * 100 for score in scores]\n",
    "  df = pd.DataFrame({\n",
    "      \"Prediction\": predictions,\n",
    "      \"Confidence\": scores\n",
    "  })\n",
    "\n",
    "  init_widgets(image_text.value, question_text.value)\n",
    "  display(image)\n",
    "\n",
    "  display(HTML(df.to_html()))\n",
    "\n",
    "\n",
    "image_text, question_text = init_widgets(\n",
    "    \"http://images.cocodataset.org/train2017/000000505539.jpg\",\n",
    "    \"where is this place?\"\n",
    ")"
   ]
  }
 ],
 "metadata": {
  "kernelspec": {
   "display_name": "cos429_env",
   "language": "python",
   "name": "cos429_env"
  },
  "language_info": {
   "codemirror_mode": {
    "name": "ipython",
    "version": 3
   },
   "file_extension": ".py",
   "mimetype": "text/x-python",
   "name": "python",
   "nbconvert_exporter": "python",
   "pygments_lexer": "ipython3",
   "version": "3.7.11"
  }
 },
 "nbformat": 4,
 "nbformat_minor": 5
}
